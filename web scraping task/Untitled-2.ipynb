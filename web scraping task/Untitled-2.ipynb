{
 "cells": [
  {
   "cell_type": "markdown",
   "metadata": {},
   "source": [
    "### Task 1 ###"
   ]
  },
  {
   "cell_type": "code",
   "execution_count": 1,
   "metadata": {},
   "outputs": [],
   "source": [
    "from bs4 import BeautifulSoup\n",
    "import requests\n",
    "import csv"
   ]
  },
  {
   "cell_type": "code",
   "execution_count": 2,
   "metadata": {},
   "outputs": [
    {
     "data": {
      "text/plain": [
       "<Response [200]>"
      ]
     },
     "execution_count": 2,
     "metadata": {},
     "output_type": "execute_result"
    }
   ],
   "source": [
    "response = requests.get(\"https://www.scrapethissite.com/pages/simple/\")\n",
    "response"
   ]
  },
  {
   "cell_type": "code",
   "execution_count": 24,
   "metadata": {},
   "outputs": [],
   "source": [
    "data = BeautifulSoup(response.text, \"html.parser\")"
   ]
  },
  {
   "cell_type": "code",
   "execution_count": 25,
   "metadata": {},
   "outputs": [],
   "source": [
    "with open('countries.csv', 'w', newline='', encoding='utf-8') as file:\n",
    "    writer = writer = csv.DictWriter(file, [\"Name\", \"Capital\", \"Population\", \"Area\"])\n",
    "    writer.writeheader()\n",
    "    for country in data.find_all(\"div\",\"col-md-4 country\"):\n",
    "        name = country.find('h3').text.strip()\n",
    "        capital = country.find('span', class_='country-capital').text.strip()\n",
    "        population = country.find('span', class_='country-population').text.strip()\n",
    "        area = country.find('span', class_='country-area').text.strip()\n",
    "        writer.writerow({\n",
    "            \"Name\": name,\n",
    "            \"Capital\": capital,\n",
    "            \"Population\": population,\n",
    "            \"Area\": area\n",
    "        })\n",
    "    "
   ]
  },
  {
   "cell_type": "markdown",
   "metadata": {},
   "source": [
    "### Task 2 ###"
   ]
  },
  {
   "cell_type": "code",
   "execution_count": 2,
   "metadata": {},
   "outputs": [
    {
     "data": {
      "text/plain": [
       "<Response [200]>"
      ]
     },
     "execution_count": 2,
     "metadata": {},
     "output_type": "execute_result"
    }
   ],
   "source": [
    "response = requests.get(\"https://www.scrapethissite.com/pages/forms/?page_num=1\")\n",
    "response"
   ]
  },
  {
   "cell_type": "code",
   "execution_count": 3,
   "metadata": {},
   "outputs": [],
   "source": [
    "data = BeautifulSoup(response.text, \"html.parser\")"
   ]
  },
  {
   "cell_type": "code",
   "execution_count": 5,
   "metadata": {},
   "outputs": [],
   "source": [
    "with open('Teams.csv', 'w', newline='', encoding='utf-8') as file:\n",
    "    writer = writer = csv.DictWriter(file, [\"Team Name\", \"year\", \"wins\", \"losses\",\"wins %\",\"Goals For (GF)\",\"Goals Against (GA)\"])\n",
    "    writer.writeheader()\n",
    "    for team in data.find_all(\"table\",\"table\"):\n",
    "        for row in team.find_all('tr')[1:]:\n",
    "            columns = row.find_all('td')\n",
    "            team_name = columns[0].text.strip()\n",
    "            year = columns[1].text.strip()\n",
    "            wins = columns[2].text.strip()\n",
    "            losses = columns[3].text.strip()\n",
    "            wins_percentage = columns[5].text.strip()\n",
    "            goals_for = columns[6].text.strip()\n",
    "            goals_against = columns[7].text.strip()\n",
    "            writer.writerow({\n",
    "                \"Team Name\": team_name,\n",
    "                \"year\": year,\n",
    "                \"wins\": wins,\n",
    "                \"losses\": losses,\n",
    "                \"wins %\": wins_percentage,\n",
    "                \"Goals For (GF)\": goals_for,\n",
    "                \"Goals Against (GA)\": goals_against\n",
    "            })"
   ]
  }
 ],
 "metadata": {
  "kernelspec": {
   "display_name": "Test",
   "language": "python",
   "name": "python3"
  },
  "language_info": {
   "codemirror_mode": {
    "name": "ipython",
    "version": 3
   },
   "file_extension": ".py",
   "mimetype": "text/x-python",
   "name": "python",
   "nbconvert_exporter": "python",
   "pygments_lexer": "ipython3",
   "version": "3.12.7"
  }
 },
 "nbformat": 4,
 "nbformat_minor": 2
}
